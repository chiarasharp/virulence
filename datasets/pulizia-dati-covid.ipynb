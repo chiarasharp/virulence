{
 "cells": [
  {
   "cell_type": "code",
   "execution_count": null,
   "id": "d6c4e2c4-78d5-42f8-bfa4-ad0bd138dbc0",
   "metadata": {},
   "outputs": [],
   "source": [
    "import pandas as pd\n",
    "import json"
   ]
  },
  {
   "cell_type": "code",
   "execution_count": null,
   "id": "6c65ef43-bd27-4f28-a1f8-8fba690ba7db",
   "metadata": {},
   "outputs": [],
   "source": [
    "df = pd.read_csv('dpc-covid19-ita-regioni.csv')\n",
    "df_pop = pd.read_csv('DCIS_POPORESBIL1_12012022143315331.csv')\n",
    "df_cod = pd.read_csv('Codici-statistici-e-denominazioni-al-01_01_2022.csv', sep=';',encoding='latin-1')\n",
    "json_r = 'limits_IT_regions.geojson'"
   ]
  },
  {
   "cell_type": "code",
   "execution_count": null,
   "id": "308ed262-54a3-49dc-aaaf-c2f0795d0156",
   "metadata": {},
   "outputs": [],
   "source": [
    "df_pm10 = pd.read_csv('DataExtract.csv')\n",
    "df_net_r = pd.read_csv('air_quality_net_italy_regions.csv', sep=';')"
   ]
  },
  {
   "cell_type": "code",
   "execution_count": null,
   "id": "de8ff250-a152-4dcb-98d3-82fce1882535",
   "metadata": {},
   "outputs": [],
   "source": [
    "# converting values in the \"data\" column in pandas datetime values\n",
    "datetimes = pd.to_datetime(df[\"data\"])\n",
    "df[\"data\"] = datetimes"
   ]
  },
  {
   "cell_type": "code",
   "execution_count": null,
   "id": "42e8473b-9c49-448a-8e6f-73d66ca622ba",
   "metadata": {},
   "outputs": [],
   "source": [
    "#filtering rows on \"data\" column\n",
    "#only keeping rows with \"2020-05-24 17:00:00\" value\n",
    "#to only get death and cases up until the 24th of may of 2020\n",
    "start_date = \"2020-05-24 17:00:00\"\n",
    "end_date = \"2020-05-24 17:00:00\"\n",
    "after_start_date = df[\"data\"] >= start_date\n",
    "before_end_date = df[\"data\"] <= end_date\n",
    "between_two_dates = after_start_date & before_end_date\n",
    "filtered_dates = df.loc[between_two_dates]\n",
    "\n",
    "df = filtered_dates"
   ]
  },
  {
   "cell_type": "code",
   "execution_count": null,
   "id": "fc339e86-54ce-480f-ac48-ab0f8c5eef1c",
   "metadata": {},
   "outputs": [],
   "source": [
    "#removing unnecessary columns\n",
    "df_tot_pos_morti25052020 = df[['codice_regione', 'denominazione_regione', 'totale_positivi', 'deceduti']]\n",
    "\n",
    "#ordering rows based on region code\n",
    "df_tot_pos_morti25052020.sort_values(by=['codice_regione'], inplace=True)\n",
    "df_tot_pos_morti25052020=df_tot_pos_morti25052020.reset_index(drop=True)"
   ]
  },
  {
   "cell_type": "code",
   "execution_count": null,
   "id": "df357896-ac61-48da-bd82-b16f45346ce6",
   "metadata": {},
   "outputs": [],
   "source": [
    "#merging P.A. Bolzano and P.A. Trento\n",
    "tot_pos_trentino = df_tot_pos_morti25052020['totale_positivi'].values[19] + df_tot_pos_morti25052020['totale_positivi'].values[20]\n",
    "deceduti_trentino = df_tot_pos_morti25052020['deceduti'].values[19] + df_tot_pos_morti25052020['deceduti'].values[20]\n",
    "\n",
    "trentino = pd.DataFrame({'codice_regione':4, 'denominazione_regione':'Trentino-Alto Adige/Südtirol', 'totale_positivi':tot_pos_trentino, 'deceduti':deceduti_trentino}, index=[3])\n",
    "df_tot_pos_morti25052020 = pd.concat([df_tot_pos_morti25052020.iloc[:3], trentino, df_tot_pos_morti25052020.iloc[3:]]).reset_index(drop=True)\n",
    "df_tot_pos_morti25052020 = df_tot_pos_morti25052020.drop([20, 21])"
   ]
  },
  {
   "cell_type": "code",
   "execution_count": null,
   "id": "dd37c5d1-434a-4207-a3a4-86e811e567b3",
   "metadata": {},
   "outputs": [],
   "source": [
    "#cleaning dataset regarding population numbers\n",
    "df_pop = df_pop.loc[df_pop['TIME'] == '2020']\n",
    "df_pop.reset_index(drop=True)\n",
    "df_pop = df_pop[['Territorio', 'Value']]\n",
    "df_pop = df_pop.rename(columns={'Territorio': 'denominazione_regione', 'Value': 'popolazione'})\n",
    "df_pop = df_pop.reset_index(drop=True)\n",
    "df_pop['denominazione_regione'] = df_pop['denominazione_regione'].replace({'Valle d\\'Aosta / Vallée d\\'Aoste':'Valle d\\'Aosta', 'Friuli-Venezia Giulia':'Friuli Venezia Giulia'})"
   ]
  },
  {
   "cell_type": "code",
   "execution_count": null,
   "id": "5f536dce-2f67-411e-a23c-b929f7bfdd12",
   "metadata": {},
   "outputs": [],
   "source": [
    "# cleaning pm10 ds\n",
    "df_pm10_r = pd.merge(df_pm10, df_net_r, on=\"Air Quality Network\")\n",
    "pm10r_fil = df_pm10_r[['Air Pollution Level', 'Region Code']]\n",
    "pm10r_fil = pm10r_fil.groupby('Region Code', as_index=False)['Air Pollution Level'].mean().round(2)\n",
    "pm10r_fil = pm10r_fil.rename(columns={'Region Code': 'region_istat_code', 'Air Pollution Level': 'pm10_mean_level'})\n",
    "pm10r_fil = pm10r_fil.reset_index(drop=True)"
   ]
  },
  {
   "cell_type": "code",
   "execution_count": null,
   "id": "53889bf1-2348-4947-baf8-e528ae3d67d1",
   "metadata": {},
   "outputs": [],
   "source": [
    "#merging P.A. Bolzano and P.A. Trento\n",
    "pop_trentino = df_pop['popolazione'].values[4] + df_pop['popolazione'].values[5]\n",
    "trentino = pd.DataFrame({'denominazione_regione':'Trentino-Alto Adige/Südtirol', 'popolazione':pop_trentino}, index=[3])\n",
    "df_pop = pd.concat([df_pop.iloc[:3], trentino, df_pop.iloc[3:]]).reset_index(drop=True)\n",
    "df_pop = df_pop.drop([5, 6])"
   ]
  },
  {
   "cell_type": "code",
   "execution_count": null,
   "id": "56c83204-fe2c-4eaf-881d-f8734650c682",
   "metadata": {},
   "outputs": [],
   "source": [
    "#merging of population dataset with covid dataset\n",
    "df_finale = pd.merge(df_tot_pos_morti25052020, df_pop, on=\"denominazione_regione\")"
   ]
  },
  {
   "cell_type": "code",
   "execution_count": null,
   "id": "c1d95863-72f9-41bf-bfea-2485b821ce56",
   "metadata": {},
   "outputs": [],
   "source": [
    "#renaming regions with istat names\n",
    "df_cod = df_cod[['Denominazione Regione']]\n",
    "df_cod = df_cod.drop_duplicates()\n",
    "df_cod = df_cod.reset_index(drop=True)\n",
    "df_cod\n",
    "\n",
    "df_finale['denominazione_regione'] = df_cod['Denominazione Regione']"
   ]
  },
  {
   "cell_type": "code",
   "execution_count": null,
   "id": "43a43ffd-e2af-48a6-a21f-1d1913a4edcf",
   "metadata": {},
   "outputs": [],
   "source": [
    "#adding column regarding number of cases and death for every 100000 residents\n",
    "df_finale['totale_positivi_ogni_100000'] = df_finale.apply(lambda row: round((row.totale_positivi / row.popolazione)*100000), axis=1)\n",
    "df_finale['deceduti_ogni_100000'] = df_finale.apply(lambda row: round((row.deceduti / row.popolazione)*100000), axis=1)"
   ]
  },
  {
   "cell_type": "code",
   "execution_count": null,
   "id": "f125db1e-78da-4aaf-8b43-350065e859a1",
   "metadata": {},
   "outputs": [],
   "source": [
    "#translation of columns in english\n",
    "df_finale = df_finale.rename(columns={'codice_regione': 'region_istat_code', 'denominazione_regione': 'region_name', 'totale_positivi': 'tot_positives', 'deceduti': 'deaths', 'popolazione':'population', 'totale_positivi_ogni_100000':'tot_positives_every_100000', 'deceduti_ogni_100000': 'deaths_every_100000'})"
   ]
  },
  {
   "cell_type": "code",
   "execution_count": null,
   "id": "38d2a621-f107-4f64-8399-eea85f617e53",
   "metadata": {},
   "outputs": [],
   "source": [
    "#merging pm10 ds with the final ds \n",
    "df_finale = pd.merge(df_finale, pm10r_fil, on=\"region_istat_code\")"
   ]
  },
  {
   "cell_type": "code",
   "execution_count": null,
   "id": "9c8ce95d-39c8-432c-a0f2-f97c7e0ec12e",
   "metadata": {},
   "outputs": [],
   "source": [
    "#creating csv file\n",
    "df_finale_csv = df_finale.to_csv('covid-data-regions-first-quarantine.csv', encoding='utf-8', index=False)"
   ]
  },
  {
   "cell_type": "code",
   "execution_count": null,
   "id": "e6f951ec-8de4-492b-9001-b9775b917b32",
   "metadata": {},
   "outputs": [],
   "source": [
    "#creating json file\n",
    "df_dict = df_finale.to_dict(orient='records')\n",
    "\n",
    "with open('limits_IT_regions.geojson', 'r') as f1:\n",
    "    json_rs = json.load(f1)\n",
    "\n",
    "jreg = json_rs.copy()\n",
    "\n",
    "for feat in jreg['features']:\n",
    "    f_pr = feat['properties'].copy()\n",
    "    for i in df_dict:\n",
    "        if f_pr['reg_istat_code_num'] == i['region_istat_code']:\n",
    "            feat['properties'].clear()\n",
    "            feat['properties'].update(i)\n",
    "            \n",
    "with open('covid-data-regions-first-quarantine.geojson', 'w') as f:\n",
    "    json.dump(jreg, f)"
   ]
  },
  {
   "cell_type": "code",
   "execution_count": null,
   "id": "5706764c-3566-4919-8bb6-ab943f558aeb",
   "metadata": {},
   "outputs": [],
   "source": []
  }
 ],
 "metadata": {
  "kernelspec": {
   "display_name": "Python 3 (ipykernel)",
   "language": "python",
   "name": "python3"
  },
  "language_info": {
   "codemirror_mode": {
    "name": "ipython",
    "version": 3
   },
   "file_extension": ".py",
   "mimetype": "text/x-python",
   "name": "python",
   "nbconvert_exporter": "python",
   "pygments_lexer": "ipython3",
   "version": "3.9.10"
  }
 },
 "nbformat": 4,
 "nbformat_minor": 5
}
