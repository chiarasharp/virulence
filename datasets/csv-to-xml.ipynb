{
 "cells": [
  {
   "cell_type": "markdown",
   "id": "c619e0ad-9206-45cf-8e51-f97c7490f24e",
   "metadata": {},
   "source": [
    "Importing libraries."
   ]
  },
  {
   "cell_type": "code",
   "execution_count": 1,
   "id": "5cfdd0e6-5d3b-42da-b09d-64cb0beb1e90",
   "metadata": {},
   "outputs": [],
   "source": [
    "import pandas as pd #for handling csv and csv contents\n",
    "from rdflib import *\n",
    "import urllib.parse as url #for parsing strings to URI'"
   ]
  },
  {
   "cell_type": "markdown",
   "id": "a355e913-8b05-472d-b696-05ec4e12ff70",
   "metadata": {},
   "source": [
    "Reading csv file."
   ]
  },
  {
   "cell_type": "code",
   "execution_count": 2,
   "id": "6c1d1a15-c938-4b74-8f7f-475696f89e85",
   "metadata": {},
   "outputs": [],
   "source": [
    "df = pd.read_csv('covid-data-regions-first-quarantine.csv')"
   ]
  },
  {
   "cell_type": "markdown",
   "id": "07ccdeac-f59b-48fb-93dc-6329eed045c5",
   "metadata": {},
   "source": [
    "Define a graph 'g' and namespaces."
   ]
  },
  {
   "cell_type": "code",
   "execution_count": 3,
   "id": "989ffde9-9c9c-42de-b219-e2bd8d0442f3",
   "metadata": {},
   "outputs": [],
   "source": [
    "virulence = Namespace('http://www.chiarasharp.github.io/virulence/')\n",
    "output_graph = Graph()\n",
    "output_graph.bind('virulence', virulence)\n",
    "\n",
    "for index, row in df.iterrows():\n",
    "    regionEnc = url.quote(row['region_name'])\n",
    "    region = URIRef('http://www.chiarasharp.github.io/virulence/' + regionEnc)\n",
    "    \n",
    "   \n",
    "    #\n",
    "    output_graph.set((region, virulence.hasIstatCode, Literal(row['region_istat_code'])))\n",
    "    output_graph.set((region, virulence.hasTotPositives, Literal(row['tot_positives'])))\n",
    "    output_graph.set((region, virulence.hasDeaths, Literal(row['deaths'])))\n",
    "    output_graph.set((region, virulence.hasPopulation, Literal(row['population'])))\n",
    "    output_graph.set((region, virulence.hasTotPositivesFor100000, Literal(row['tot_positives_every_100000'])))\n",
    "    output_graph.set((region, virulence.hasDeathsFor100000, Literal(row['deaths_every_100000'])))\n",
    "    output_graph.set((region, virulence.hasPM10MeanLevel, Literal(row['pm10_mean_level'])))\n",
    "    output_graph.set((region, virulence.hasPopulationDensity, Literal(row['population_density'])))\n",
    "    output_graph.set((region, virulence.hasAgeMean, Literal(row['age_mean'])))\n",
    "    output_graph.set((region, virulence.hasHospitalCount, Literal(row['hospital_count'])))\n",
    "    output_graph.set((region, virulence.HasTemperatureMean, Literal(row['temperature_mean'])))\n",
    "    #output_graph.add((istatCode, predicate, Literal(float(row[item]))))\n"
   ]
  },
  {
   "cell_type": "code",
   "execution_count": 4,
   "id": "55eec97e-9d91-4aa2-b81f-dce5c23f54da",
   "metadata": {},
   "outputs": [
    {
     "data": {
      "text/plain": [
       "<Graph identifier=N4e73b6f88a344a9490cce11980ee0993 (<class 'rdflib.graph.Graph'>)>"
      ]
     },
     "execution_count": 4,
     "metadata": {},
     "output_type": "execute_result"
    }
   ],
   "source": [
    "output_graph.serialize(destination='covid-data-regions-first-quarantine.xml', format='xml')"
   ]
  },
  {
   "cell_type": "code",
   "execution_count": null,
   "id": "a878a40d-edfa-4b01-9baa-0e06143991f0",
   "metadata": {},
   "outputs": [],
   "source": []
  }
 ],
 "metadata": {
  "kernelspec": {
   "display_name": "Python 3 (ipykernel)",
   "language": "python",
   "name": "python3"
  },
  "language_info": {
   "codemirror_mode": {
    "name": "ipython",
    "version": 3
   },
   "file_extension": ".py",
   "mimetype": "text/x-python",
   "name": "python",
   "nbconvert_exporter": "python",
   "pygments_lexer": "ipython3",
   "version": "3.9.10"
  }
 },
 "nbformat": 4,
 "nbformat_minor": 5
}
