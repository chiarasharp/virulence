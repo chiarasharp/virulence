{
 "cells": [
  {
   "cell_type": "markdown",
   "id": "1c1ecfe9-48c6-44c7-99e4-60ee6dfc6e30",
   "metadata": {},
   "source": [
    "Importing libraries."
   ]
  },
  {
   "cell_type": "code",
   "execution_count": null,
   "id": "d6c4e2c4-78d5-42f8-bfa4-ad0bd138dbc0",
   "metadata": {},
   "outputs": [],
   "source": [
    "import pandas as pd\n",
    "import json\n",
    "import numpy as np"
   ]
  },
  {
   "cell_type": "markdown",
   "id": "85f3aa98-c16a-4e43-96eb-7157f6ca74a3",
   "metadata": {},
   "source": [
    "Importing and cleaning covid dataset:"
   ]
  },
  {
   "cell_type": "code",
   "execution_count": null,
   "id": "760096f9-10b1-4b67-8ddf-b7a7658bb944",
   "metadata": {},
   "outputs": [],
   "source": [
    "df = pd.read_csv('dpc-covid19-ita-regioni.csv')\n",
    "\n",
    "# converting values in the \"data\" column in pandas datetime values\n",
    "datetimes = pd.to_datetime(df[\"data\"])\n",
    "df[\"data\"] = datetimes\n",
    "\n",
    "#filtering rows on \"data\" column\n",
    "#only keeping rows with \"2020-05-24 17:00:00\" value\n",
    "#to only get death and cases up until the 24th of may of 2020\n",
    "start_date = \"2020-05-24 17:00:00\"\n",
    "end_date = \"2020-05-24 17:00:00\"\n",
    "after_start_date = df[\"data\"] >= start_date\n",
    "before_end_date = df[\"data\"] <= end_date\n",
    "between_two_dates = after_start_date & before_end_date\n",
    "filtered_dates = df.loc[between_two_dates]\n",
    "\n",
    "df = filtered_dates\n",
    "\n",
    "#removing unnecessary columns\n",
    "df_tot_pos_morti25052020 = df[['codice_regione', 'denominazione_regione', 'totale_positivi', 'deceduti']]\n",
    "\n",
    "#ordering rows based on region code\n",
    "df_tot_pos_morti25052020.sort_values(by=['codice_regione'], inplace=True)\n",
    "df_tot_pos_morti25052020=df_tot_pos_morti25052020.reset_index(drop=True)\n",
    "\n",
    "#merging P.A. Bolzano and P.A. Trento\n",
    "tot_pos_trentino = df_tot_pos_morti25052020['totale_positivi'].values[19] + df_tot_pos_morti25052020['totale_positivi'].values[20]\n",
    "deceduti_trentino = df_tot_pos_morti25052020['deceduti'].values[19] + df_tot_pos_morti25052020['deceduti'].values[20]\n",
    "\n",
    "trentino = pd.DataFrame({'codice_regione':4, 'denominazione_regione':'Trentino-Alto Adige/Südtirol', 'totale_positivi':tot_pos_trentino, 'deceduti':deceduti_trentino}, index=[3])\n",
    "df_tot_pos_morti25052020 = pd.concat([df_tot_pos_morti25052020.iloc[:3], trentino, df_tot_pos_morti25052020.iloc[3:]]).reset_index(drop=True)\n",
    "df_tot_pos_morti25052020 = df_tot_pos_morti25052020.drop([20, 21])"
   ]
  },
  {
   "cell_type": "markdown",
   "id": "c7c789a0-88ac-4e30-a468-18d0b5f48e9b",
   "metadata": {},
   "source": [
    "Cleaning dataset regarding population numbers:"
   ]
  },
  {
   "cell_type": "code",
   "execution_count": null,
   "id": "dd37c5d1-434a-4207-a3a4-86e811e567b3",
   "metadata": {},
   "outputs": [],
   "source": [
    "df_pop = pd.read_csv('DCIS_POPORESBIL1_12012022143315331.csv')\n",
    "\n",
    "df_pop = df_pop.loc[df_pop['TIME'] == '2020']\n",
    "df_pop.reset_index(drop=True)\n",
    "df_pop = df_pop[['Territorio', 'Value']]\n",
    "df_pop = df_pop.rename(columns={'Territorio': 'denominazione_regione', 'Value': 'popolazione'})\n",
    "df_pop = df_pop.reset_index(drop=True)\n",
    "df_pop['denominazione_regione'] = df_pop['denominazione_regione'].replace({'Valle d\\'Aosta / Vallée d\\'Aoste':'Valle d\\'Aosta', 'Friuli-Venezia Giulia':'Friuli Venezia Giulia'})\n",
    " \n",
    "#merging P.A. Bolzano and P.A. Trento\n",
    "pop_trentino = df_pop['popolazione'].values[4] + df_pop['popolazione'].values[5]\n",
    "trentino = pd.DataFrame({'denominazione_regione':'Trentino-Alto Adige/Südtirol', 'popolazione':pop_trentino}, index=[3])\n",
    "df_pop = pd.concat([df_pop.iloc[:3], trentino, df_pop.iloc[3:]]).reset_index(drop=True)\n",
    "df_pop = df_pop.drop([5, 6])"
   ]
  },
  {
   "cell_type": "markdown",
   "id": "9ec7a4d4-d67b-40fb-8c86-0136eb2d8e2e",
   "metadata": {},
   "source": [
    "Merging of population dataset with covid dataset:"
   ]
  },
  {
   "cell_type": "code",
   "execution_count": null,
   "id": "56c83204-fe2c-4eaf-881d-f8734650c682",
   "metadata": {},
   "outputs": [],
   "source": [
    "df_finale = pd.merge(df_tot_pos_morti25052020, df_pop, on=\"denominazione_regione\")"
   ]
  },
  {
   "cell_type": "markdown",
   "id": "dc7bcfb3-9a2d-4199-b9fc-6527bd366cb6",
   "metadata": {},
   "source": [
    "Renaming regions with Istat names:"
   ]
  },
  {
   "cell_type": "code",
   "execution_count": null,
   "id": "c1d95863-72f9-41bf-bfea-2485b821ce56",
   "metadata": {},
   "outputs": [],
   "source": [
    "df_cod = pd.read_csv('Codici-statistici-e-denominazioni-al-01_01_2022.csv', sep=';',encoding='latin-1')\n",
    "df_cod = df_cod[['Denominazione Regione']]\n",
    "df_cod = df_cod.drop_duplicates()\n",
    "df_cod = df_cod.reset_index(drop=True)\n",
    "df_cod\n",
    "\n",
    "df_finale['denominazione_regione'] = df_cod['Denominazione Regione']"
   ]
  },
  {
   "cell_type": "markdown",
   "id": "77c5dc29-fe9c-4024-b878-7bc78b8e1062",
   "metadata": {},
   "source": [
    "Adding column regarding number of cases and death for every 100000 residents:"
   ]
  },
  {
   "cell_type": "code",
   "execution_count": null,
   "id": "43a43ffd-e2af-48a6-a21f-1d1913a4edcf",
   "metadata": {},
   "outputs": [],
   "source": [
    "df_finale['totale_positivi_ogni_100000'] = df_finale.apply(lambda row: round((row.totale_positivi / row.popolazione)*100000), axis=1)\n",
    "df_finale['deceduti_ogni_100000'] = df_finale.apply(lambda row: round((row.deceduti / row.popolazione)*100000), axis=1)"
   ]
  },
  {
   "cell_type": "markdown",
   "id": "9db064ac-5b35-437c-a8c0-c827402b443a",
   "metadata": {},
   "source": [
    "Translation of columns in english:"
   ]
  },
  {
   "cell_type": "code",
   "execution_count": null,
   "id": "f125db1e-78da-4aaf-8b43-350065e859a1",
   "metadata": {},
   "outputs": [],
   "source": [
    "df_finale = df_finale.rename(columns={'codice_regione': 'region_istat_code', 'denominazione_regione': 'region_name', 'totale_positivi': 'tot_positives', 'deceduti': 'deaths', 'popolazione':'population', 'totale_positivi_ogni_100000':'tot_positives_every_100000', 'deceduti_ogni_100000': 'deaths_every_100000'})"
   ]
  },
  {
   "cell_type": "markdown",
   "id": "3036a81e-d4ca-4d7d-8e0d-ae23307adf51",
   "metadata": {},
   "source": [
    "Importing and cleaning temperature dataset."
   ]
  },
  {
   "cell_type": "code",
   "execution_count": null,
   "id": "38646a69-330f-4feb-a77d-c1c76edc19c7",
   "metadata": {},
   "outputs": [],
   "source": [
    "df_temp = pd.read_csv('Tavola_1-Tabella 1.csv', sep=';')\n",
    "df_temp = df_temp[['region_istat_code', 'temperature_mean']]\n",
    "df_temp = df_temp.groupby('region_istat_code')['temperature_mean'].mean().round(2).reset_index(name='temperature_mean')"
   ]
  },
  {
   "cell_type": "markdown",
   "id": "7e35bd29-a88c-4e97-88b7-3e17c3a55179",
   "metadata": {},
   "source": [
    "Importing and cleaning hospital dataset:"
   ]
  },
  {
   "cell_type": "code",
   "execution_count": null,
   "id": "c935fc54-747d-4088-b90d-00559cfa7176",
   "metadata": {},
   "outputs": [],
   "source": [
    "df_san = pd.read_csv('C_17_dataset_68_0_upFileUTF8CODREG.csv', sep=';')\n",
    "df_san = df_san.groupby(['Codice Regione'], sort=False).size().reset_index(name='hospital_count')\n",
    "df_san = df_san.rename(columns={'Codice Regione': 'region_istat_code'})"
   ]
  },
  {
   "cell_type": "markdown",
   "id": "65a45156-f75d-4bde-a19d-3ef3b521eb0e",
   "metadata": {},
   "source": [
    "Importing and cleaning surface dataset:"
   ]
  },
  {
   "cell_type": "code",
   "execution_count": null,
   "id": "27d52cfc-660f-45bd-a79f-1e7644940632",
   "metadata": {},
   "outputs": [],
   "source": [
    "df_sup = pd.read_csv('DCCV_CARGEOMOR_ST_COM_27032022165808849.csv')\n",
    "df_sup = df_sup.rename(columns={'Territorio': 'region_name', 'Value': 'surface_km2'})\n",
    "df_sup = df_sup[['region_name', 'surface_km2']]\n",
    "df_sup.at[1,'region_name']='Valle d\\'Aosta/Vallée d\\'Aoste'\n",
    "df_sup.at[4,'region_name']='Trentino-Alto Adige/Südtirol'"
   ]
  },
  {
   "cell_type": "markdown",
   "id": "5dd39463-8be8-4f43-99a4-a787f284d822",
   "metadata": {},
   "source": [
    "Importing and cleaning surface dataset:"
   ]
  },
  {
   "cell_type": "code",
   "execution_count": null,
   "id": "b4a7337b-544f-466e-adf3-3fc76fa1886c",
   "metadata": {},
   "outputs": [],
   "source": [
    "df_eta = pd.read_csv('DCIS_INDDEMOG1_28032022142732546.csv')\n",
    "\n",
    "df_eta = df_eta.rename(columns={'Territorio': 'region_name', 'Value': 'age_mean'})\n",
    "df_eta = df_eta[['region_name', 'age_mean']]\n",
    "df_eta.at[1,'region_name']='Valle d\\'Aosta/Vallée d\\'Aoste'\n",
    "df_eta.at[4,'region_name']='Trentino-Alto Adige/Südtirol'"
   ]
  },
  {
   "cell_type": "markdown",
   "id": "e2774249-3b26-47b8-946d-abb99fb44ca4",
   "metadata": {},
   "source": [
    "Importing and cleaning pm10 ds:"
   ]
  },
  {
   "cell_type": "code",
   "execution_count": null,
   "id": "5f536dce-2f67-411e-a23c-b929f7bfdd12",
   "metadata": {},
   "outputs": [],
   "source": [
    "df_pm10 = pd.read_csv('DataExtract.csv')\n",
    "df_net_r = pd.read_csv('air_quality_net_italy_regions.csv', sep=';')\n",
    "\n",
    "df_pm10_r = pd.merge(df_pm10, df_net_r, on=\"Air Quality Network\")\n",
    "pm10r_fil = df_pm10_r[['Air Pollution Level', 'Region Code']]\n",
    "pm10r_fil = pm10r_fil.groupby('Region Code', as_index=False)['Air Pollution Level'].mean().round(2)\n",
    "pm10r_fil = pm10r_fil.rename(columns={'Region Code': 'region_istat_code', 'Air Pollution Level': 'pm10_mean_level'})\n",
    "pm10r_fil = pm10r_fil.reset_index(drop=True)"
   ]
  },
  {
   "cell_type": "markdown",
   "id": "28711105",
   "metadata": {},
   "source": [
    "Merging everything in final dataset:"
   ]
  },
  {
   "cell_type": "code",
   "execution_count": null,
   "id": "38d2a621-f107-4f64-8399-eea85f617e53",
   "metadata": {},
   "outputs": [],
   "source": [
    "df_finale = pd.merge(df_finale, pm10r_fil, on=\"region_istat_code\")"
   ]
  },
  {
   "cell_type": "code",
   "execution_count": null,
   "id": "15dc0cdc-29b3-4161-876e-4665b22dbfdd",
   "metadata": {},
   "outputs": [],
   "source": [
    "df_finale = pd.merge(df_finale, df_sup)\n",
    "df_finale['population_density'] = df_finale.apply(lambda row: round((row.population / row.surface_km2)), axis=1)"
   ]
  },
  {
   "cell_type": "code",
   "execution_count": null,
   "id": "50f26305-beae-4fda-a4ec-d299d542fda3",
   "metadata": {},
   "outputs": [],
   "source": [
    "df_finale = pd.merge(df_finale, df_eta)"
   ]
  },
  {
   "cell_type": "code",
   "execution_count": null,
   "id": "f4f2c7a5-ff3e-45bd-8a83-eb4f1fe2adc3",
   "metadata": {},
   "outputs": [],
   "source": [
    "df_finale = pd.merge(df_finale, df_san, how='left')\n",
    "df_finale['hospital_count'].fillna(0, inplace = True)\n",
    "df_finale['hospital_count'] = df_finale['hospital_count'].apply(np.int64)"
   ]
  },
  {
   "cell_type": "code",
   "execution_count": null,
   "id": "7b86ed34-8c2d-45f3-b660-01fe05f172e9",
   "metadata": {},
   "outputs": [],
   "source": [
    "df_finale = pd.merge(df_finale, df_temp, on=\"region_istat_code\")"
   ]
  },
  {
   "cell_type": "markdown",
   "id": "de0184f5",
   "metadata": {},
   "source": [
    "Creating CSV file:"
   ]
  },
  {
   "cell_type": "code",
   "execution_count": null,
   "id": "9c8ce95d-39c8-432c-a0f2-f97c7e0ec12e",
   "metadata": {},
   "outputs": [],
   "source": [
    "df_finale_csv = df_finale.to_csv('covid-data-regions-first-quarantine.csv', encoding='utf-8', index=False)"
   ]
  },
  {
   "cell_type": "markdown",
   "id": "5025c9b7",
   "metadata": {},
   "source": [
    "Creating GEOJSON file:"
   ]
  },
  {
   "cell_type": "code",
   "execution_count": null,
   "id": "e6f951ec-8de4-492b-9001-b9775b917b32",
   "metadata": {},
   "outputs": [],
   "source": [
    "df_dict = df_finale.to_dict(orient='records')\n",
    "\n",
    "with open('limits_IT_regions.geojson', 'r') as f1:\n",
    "    json_rs = json.load(f1)\n",
    "\n",
    "jreg = json_rs.copy()\n",
    "\n",
    "for feat in jreg['features']:\n",
    "    f_pr = feat['properties'].copy()\n",
    "    for i in df_dict:\n",
    "        if f_pr['reg_istat_code_num'] == i['region_istat_code']:\n",
    "            feat['properties'].clear()\n",
    "            feat['properties'].update(i)\n",
    "            \n",
    "with open('covid-data-regions-first-quarantine.geojson', 'w') as f:\n",
    "    json.dump(jreg, f)"
   ]
  }
 ],
 "metadata": {
  "kernelspec": {
   "display_name": "Python 3 (ipykernel)",
   "language": "python",
   "name": "python3"
  },
  "language_info": {
   "codemirror_mode": {
    "name": "ipython",
    "version": 3
   },
   "file_extension": ".py",
   "mimetype": "text/x-python",
   "name": "python",
   "nbconvert_exporter": "python",
   "pygments_lexer": "ipython3",
   "version": "3.9.10"
  }
 },
 "nbformat": 4,
 "nbformat_minor": 5
}
